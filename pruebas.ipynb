{
 "cells": [
  {
   "cell_type": "code",
   "execution_count": 4,
   "id": "35dba55e",
   "metadata": {},
   "outputs": [],
   "source": [
    "import pandas as pd\n",
    "import json"
   ]
  },
  {
   "cell_type": "code",
   "execution_count": 5,
   "id": "82a8541d",
   "metadata": {},
   "outputs": [],
   "source": [
    "with open(\"../../../Downloads/response_584ad216-3c28-4c37-abdf-fd6bf8f6794a.json\") as file:\n",
    "    data = json.load(file)"
   ]
  },
  {
   "cell_type": "code",
   "execution_count": 11,
   "id": "1aece565",
   "metadata": {},
   "outputs": [
    {
     "data": {
      "text/plain": [
       "{'submission_id': '584ad216-3c28-4c37-abdf-fd6bf8f6794a',\n",
       " 'questionnaire_id': 'negocio-data_scientist',\n",
       " 'participant_info': {'full_name': 'Dmitry Ryzhenkov',\n",
       "  'email': 'dmitry.ryzhenkov@hackaboss.com'},\n",
       " 'responses': {'neg_01': 'asd',\n",
       "  'neg_02': 'asd',\n",
       "  'neg_03': 'asd',\n",
       "  'neg_04': 'asd',\n",
       "  'neg_05': 'asd',\n",
       "  'neg_06': 'asd',\n",
       "  'neg_07': '',\n",
       "  'neg_08': '',\n",
       "  'neg_09': '',\n",
       "  'neg_10': '',\n",
       "  'neg_11': '',\n",
       "  'neg_12': '',\n",
       "  'neg_13': '',\n",
       "  'neg_14': '',\n",
       "  'neg_15': '',\n",
       "  'neg_16': '',\n",
       "  'neg_17': '',\n",
       "  'neg_18': '',\n",
       "  'neg_19': '',\n",
       "  'tec_01': '',\n",
       "  'tec_02': '',\n",
       "  'tec_03': '',\n",
       "  'tec_04': '',\n",
       "  'tec_05': '',\n",
       "  'tec_06': '',\n",
       "  'tec_07': 'asdasdasdas',\n",
       "  'tec_08': '',\n",
       "  'tec_09': '',\n",
       "  'tec_10': '',\n",
       "  'tec_11': '',\n",
       "  'tec_12': '',\n",
       "  'tec_13': 'sadasdasdas',\n",
       "  'tec_14': '',\n",
       "  'tec_15': '',\n",
       "  'tec_16': 'asdasdasd',\n",
       "  'tec_17': '',\n",
       "  'tec_18': '',\n",
       "  'tec_19': '',\n",
       "  'tec_20': '',\n",
       "  'tec_21': '',\n",
       "  'tec_22': '',\n",
       "  'tec_23': '',\n",
       "  'tec_24': '',\n",
       "  'tec_25': '',\n",
       "  'tec_26': '',\n",
       "  'tec_27': '',\n",
       "  'tec_28': '',\n",
       "  'tec_29': '',\n",
       "  'tec_30': '',\n",
       "  'tec_31': '',\n",
       "  'tec_32': '',\n",
       "  'tec_33': '',\n",
       "  'tec_34': '',\n",
       "  'tec_35': '',\n",
       "  'tec_36': '',\n",
       "  'tec_37': '',\n",
       "  'tec_38': '',\n",
       "  'tec_39': '',\n",
       "  'tec_40': '',\n",
       "  'tec_41': '',\n",
       "  'tec_42': '',\n",
       "  'tec_43': '',\n",
       "  'tec_44': '',\n",
       "  'tec_45': 'asdasdasdas'},\n",
       " 'submitted_at': '2025-07-15T13:44:38.908022'}"
      ]
     },
     "execution_count": 11,
     "metadata": {},
     "output_type": "execute_result"
    }
   ],
   "source": [
    "data"
   ]
  },
  {
   "cell_type": "code",
   "execution_count": 19,
   "id": "0e7345ae",
   "metadata": {},
   "outputs": [],
   "source": [
    "with open(\"questions/negocio.json\", encoding=\"utf-8\") as file:\n",
    "    neg = json.load(file)\n",
    "\n",
    "df_neg = pd.DataFrame(neg)"
   ]
  },
  {
   "cell_type": "code",
   "execution_count": 20,
   "id": "d64dc963",
   "metadata": {},
   "outputs": [],
   "source": [
    "with open(\"questions/data_scientist.json\", encoding=\"utf-8\") as file:\n",
    "    ds = json.load(file)\n",
    "\n",
    "df_ds = pd.DataFrame(ds)"
   ]
  },
  {
   "cell_type": "code",
   "execution_count": 27,
   "id": "da878f28",
   "metadata": {},
   "outputs": [],
   "source": [
    "df = pd.json_normalize(data[\"responses\"]).T\n",
    "df = df.reset_index()\n",
    "df.columns = [\"item_id\", \"response\"]\n",
    "df = pd.merge(df, df_neg, left_on=\"item_id\", right_on=\"id\", how=\"left\")\n",
    "df = pd.merge(df, df_ds, left_on=\"item_id\", right_on=\"id\", how=\"left\")\n",
    "df[\"question\"] = df[\"question_x\"].fillna(\"\") + df[\"question_y\"].fillna(\"\")\n",
    "df[[\"item_id\", \"question\", \"response\"]].to_csv(\"responses.csv\", index=False)"
   ]
  },
  {
   "cell_type": "code",
   "execution_count": null,
   "id": "940f01c1",
   "metadata": {},
   "outputs": [],
   "source": [
    "df.to_csv(\"responses.csv\", index=False)\n"
   ]
  }
 ],
 "metadata": {
  "kernelspec": {
   "display_name": "Python 3",
   "language": "python",
   "name": "python3"
  },
  "language_info": {
   "codemirror_mode": {
    "name": "ipython",
    "version": 3
   },
   "file_extension": ".py",
   "mimetype": "text/x-python",
   "name": "python",
   "nbconvert_exporter": "python",
   "pygments_lexer": "ipython3",
   "version": "3.12.8"
  }
 },
 "nbformat": 4,
 "nbformat_minor": 5
}
