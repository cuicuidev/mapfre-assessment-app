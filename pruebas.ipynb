{
 "cells": [
  {
   "cell_type": "code",
   "execution_count": null,
   "id": "35dba55e",
   "metadata": {},
   "outputs": [],
   "source": [
    "import pandas as pd\n",
    "import json"
   ]
  },
  {
   "cell_type": "code",
   "execution_count": null,
   "id": "82a8541d",
   "metadata": {},
   "outputs": [],
   "source": [
    "with open(\"../../../Downloads/response_584ad216-3c28-4c37-abdf-fd6bf8f6794a.json\") as file:\n",
    "    data = json.load(file)"
   ]
  },
  {
   "cell_type": "code",
   "execution_count": null,
   "id": "1aece565",
   "metadata": {},
   "outputs": [],
   "source": [
    "data"
   ]
  },
  {
   "cell_type": "code",
   "execution_count": null,
   "id": "0e7345ae",
   "metadata": {},
   "outputs": [],
   "source": [
    "with open(\"questions/negocio.json\", encoding=\"utf-8\") as file:\n",
    "    neg = json.load(file)\n",
    "\n",
    "df_neg = pd.DataFrame(neg)"
   ]
  },
  {
   "cell_type": "code",
   "execution_count": null,
   "id": "d64dc963",
   "metadata": {},
   "outputs": [],
   "source": [
    "with open(\"questions/data_scientist.json\", encoding=\"utf-8\") as file:\n",
    "    ds = json.load(file)\n",
    "\n",
    "df_ds = pd.DataFrame(ds)"
   ]
  },
  {
   "cell_type": "code",
   "execution_count": null,
   "id": "da878f28",
   "metadata": {},
   "outputs": [],
   "source": [
    "df = pd.json_normalize(data[\"responses\"]).T\n",
    "df = df.reset_index()\n",
    "df.columns = [\"item_id\", \"response\"]\n",
    "df = pd.merge(df, df_neg, left_on=\"item_id\", right_on=\"id\", how=\"left\")\n",
    "df = pd.merge(df, df_ds, left_on=\"item_id\", right_on=\"id\", how=\"left\")\n",
    "df[\"question\"] = df[\"question_x\"].fillna(\"\") + df[\"question_y\"].fillna(\"\")\n",
    "df[[\"item_id\", \"question\", \"response\"]].to_csv(\"responses.csv\", index=False)"
   ]
  },
  {
   "cell_type": "code",
   "execution_count": null,
   "id": "940f01c1",
   "metadata": {},
   "outputs": [],
   "source": [
    "df.to_csv(\"responses.csv\", index=False)\n"
   ]
  }
 ],
 "metadata": {
  "kernelspec": {
   "display_name": "Python 3",
   "language": "python",
   "name": "python3"
  },
  "language_info": {
   "codemirror_mode": {
    "name": "ipython",
    "version": 3
   },
   "file_extension": ".py",
   "mimetype": "text/x-python",
   "name": "python",
   "nbconvert_exporter": "python",
   "pygments_lexer": "ipython3",
   "version": "3.12.8"
  }
 },
 "nbformat": 4,
 "nbformat_minor": 5
}
